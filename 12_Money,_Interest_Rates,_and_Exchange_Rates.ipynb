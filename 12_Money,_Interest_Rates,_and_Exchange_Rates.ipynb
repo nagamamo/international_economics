{
  "nbformat": 4,
  "nbformat_minor": 0,
  "metadata": {
    "colab": {
      "provenance": [],
      "authorship_tag": "ABX9TyN+FphTobL+WPkzg+Apw1Ax"
    },
    "kernelspec": {
      "name": "python3",
      "display_name": "Python 3"
    },
    "language_info": {
      "name": "python"
    }
  },
  "cells": [
    {
      "cell_type": "markdown",
      "source": [
        "# **第12回為替レートの予測：時系列モデル**\n"
      ],
      "metadata": {
        "id": "DHM4fciQ9X6M"
      }
    },
    {
      "cell_type": "markdown",
      "source": [
        "　本例では、Prophetを用いた為替レートの予測例を紹介します。ライブラリは、まず数値計算用のpandas、データ取得を目的とするpandas datareader、標本期間を指定するためのdatetime、時系列モデル用のprophet、最後に図表用のライブラリであるmatplotlibを読み込みます。"
      ],
      "metadata": {
        "id": "IWP3OaC09nj8"
      }
    },
    {
      "cell_type": "markdown",
      "source": [
        "1.　ライブラリ読み込み\n",
        "\n",
        "　まずライブラリとして、pandas、pandas_datareader、datetime、prophet、matplotlibを読み込みます。"
      ],
      "metadata": {
        "id": "Gb3u40Fn9zla"
      }
    },
    {
      "cell_type": "code",
      "source": [
        "#[1]ライブラリ読み込み\n",
        "import pandas as pd\n",
        "import pandas_datareader as data\n",
        "import datetime\n",
        "from prophet import Prophet #時系列モデル用ライブラリ\n",
        "import matplotlib.pyplot as plt"
      ],
      "metadata": {
        "id": "yNUgZ86HoRc4"
      },
      "execution_count": null,
      "outputs": []
    },
    {
      "cell_type": "markdown",
      "source": [
        "2.　データの取得\n",
        "\n",
        "　続いて、米セントルイス連銀HPから、為替レートのヒストリカル・データを取得します。\n",
        "\n",
        "https://fred.stlouisfed.org/categories/15\n",
        "\n",
        "　ここでは81カ国(2024年7月9日時点）の為替レートが取得できます。ティッカーコードはこのサイトから確認してください。今回はpandas_datareaderを用いる際に（）内に直接ティッカーコードを書き込むため、冒頭にティッカーコードは指定しません。"
      ],
      "metadata": {
        "id": "Bdopsm5m77jr"
      }
    },
    {
      "cell_type": "code",
      "source": [
        "#[2]データ取得\n",
        "start=datetime.date(1971,1,1)#標本期間を1973年1月1日から\n",
        "end=datetime.date(2024,6,30)#2024年6月30日までに指定\n",
        "JPY=data.DataReader('DEXJPUS','fred',start=start,end=end)\n",
        "JPY.head()"
      ],
      "metadata": {
        "id": "9FVu9uL5wIr1"
      },
      "execution_count": null,
      "outputs": []
    },
    {
      "cell_type": "markdown",
      "source": [
        "3.　変数名の変更\n",
        "\n",
        "　Prophetでは変数名を日時＝'ds'、予測する変数＝'y'に指定されています。このため一度、データフレームのインデックス名を一度リセットして日時をdsへ、予測したい変数をｙへ変数名を変更します。"
      ],
      "metadata": {
        "id": "Thrav6W58GJe"
      }
    },
    {
      "cell_type": "code",
      "source": [
        "#[3]データフレームの整理\n",
        "JPY.reset_index(inplace=True) #prophetの変数定義への変更するためリセット\n",
        "JPY = JPY.rename(columns={'DATE': 'ds','DEXJPUS': 'y'}) #prophetの変数定義への変更\n",
        "JPY.head()"
      ],
      "metadata": {
        "id": "jj42FjuQp31g"
      },
      "execution_count": null,
      "outputs": []
    },
    {
      "cell_type": "markdown",
      "source": [
        "4.　為替レートの予測\n",
        "\n",
        "　最後のセルでは、一行目で時系列モデルにProphetを使用する指示を与えます。二行目においてヒストリカル・データをフィッティングし、三行目で予測期間を指定します。これらを実施した後、予測結果を保存し、可視化します。"
      ],
      "metadata": {
        "id": "LMPA_jS-8RFt"
      }
    },
    {
      "cell_type": "code",
      "source": [
        "#[4]2025年6月30日の日経平均株価の予測\n",
        "model = Prophet() #時系列モデルにprophetを採用：モデル名をmodel\n",
        "model.fit(JPY) #データを時系列モデルにフィッティング\n",
        "future = model.make_future_dataframe(periods=365,freq=\"d\") #予測の期間と頻度の定義\n",
        "forecast = model.predict(future)#予測結果の保存\n",
        "model.plot(forecast)#可視化\n",
        "plt.show()"
      ],
      "metadata": {
        "id": "r4vLqrC0p5yS"
      },
      "execution_count": null,
      "outputs": []
    },
    {
      "cell_type": "markdown",
      "source": [
        "尚、予測結果の各データは下記により取得、保存できます。"
      ],
      "metadata": {
        "id": "fuLuG6Xb8sX8"
      }
    },
    {
      "cell_type": "code",
      "source": [
        "#[5]予測結果のデータ確認\n",
        "pd.set_option(\"display.max_rows\", len(forecast))\n",
        "forecast"
      ],
      "metadata": {
        "id": "PilxxuBuqHBR"
      },
      "execution_count": null,
      "outputs": []
    }
  ]
}