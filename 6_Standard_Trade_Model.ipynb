{
  "nbformat": 4,
  "nbformat_minor": 0,
  "metadata": {
    "colab": {
      "provenance": []
    },
    "kernelspec": {
      "name": "python3",
      "display_name": "Python 3"
    },
    "language_info": {
      "name": "python"
    }
  },
  "cells": [
    {
      "cell_type": "markdown",
      "source": [
        "6　 標準貿易モデル"
      ],
      "metadata": {
        "id": "vU_iVRv9uJ1d"
      }
    },
    {
      "cell_type": "markdown",
      "source": [
        "　教科書で示される通り、21世紀の25年間の世界貿易の最大の変化は、新興国からの輸出急増です。これが世界貿易機関(WTO)での新興国の発言力を高め、G20が2010年代に定期開催されるに至った背景でもあります。\n",
        "\n",
        "　本例では、新興国の貿易パターン変化が、いかなる要因によりもたらされてきたのかをH＝Oモデルを中心に実装し、それらの国々にとって望ましい貿易政策を考察します。"
      ],
      "metadata": {
        "id": "jhQpmL3tuSpE"
      }
    },
    {
      "cell_type": "markdown",
      "source": [
        "　まず、pandas、numpy、matplotlib、statmodels、の4つのライブラリーを読み込みます。輸出関数の推計は、本章でもstatmodelsによる最小二乗法を用います。"
      ],
      "metadata": {
        "id": "wADl-CJ0vM3j"
      }
    },
    {
      "cell_type": "code",
      "source": [
        "#[1]ライブラリの読み込み\n",
        "import pandas as pd\n",
        "import numpy as np\n",
        "import matplotlib.pyplot as plt\n",
        "import statsmodels.api as sm"
      ],
      "metadata": {
        "id": "UHxP2DDiuHg8"
      },
      "execution_count": 1,
      "outputs": []
    },
    {
      "cell_type": "markdown",
      "source": [
        "　続いて、データセットをURLから読み込みます。読み込んだデータをpandasデータフレームに収納します。このときのデータフレーム名は任意で構いません。左列の日時をインデックス化しておきます。尚、URLには、次の国々の1991年から2022年の四半期データが収録されています。\n",
        "\n",
        "韓国\n",
        "https://github.com/nagamamo/data/blob/main/6_Standard_Trade_Model_Korea.csv?raw=true\n",
        "\n",
        "インドネシア\n",
        "https://github.com/nagamamo/data/blob/main/6_Standard_Trade_Model_Indonesia.csv?raw=true\n",
        "\n",
        "マレーシア\n",
        "https://github.com/nagamamo/data/blob/main/6_Standard_Trade_Model_Malaysia.csv?raw=true\n",
        "\n",
        "フィリピン\n",
        "https://github.com/nagamamo/data/blob/main/6_Standard_Trade_Model_Philippines.csv?raw=true\n",
        "\n",
        "タイ\n",
        "https://github.com/nagamamo/data/blob/main/6_Standard_Trade_Model_Thailand.csv?raw=true\n",
        "\n",
        "インド\n",
        "https://github.com/nagamamo/data/blob/main/6_Standard_Trade_Model_India.csv?raw=true\n"
      ],
      "metadata": {
        "id": "NF_eKOuvv7M7"
      }
    },
    {
      "cell_type": "code",
      "source": [
        "#[2]データ読込み\n",
        "url = \"https://github.com/nagamamo/data/blob/main/6_Standard_Trade_Model_India.csv?raw=true\"#Git-hubからCSVデータの入手\n",
        "asia = pd.read_csv(url).dropna().set_index(\"t\")#データフレームの作成"
      ],
      "metadata": {
        "id": "H5fZPYZhsxCM"
      },
      "execution_count": 2,
      "outputs": []
    },
    {
      "cell_type": "markdown",
      "source": [
        "　データ読込みが間違いなく行われているかを、.head()により確認します。ここでの確認により、後段のセルで新変数（新Column）作成時にどの変数とどの変数をを用いればよいかを視認することが可能となります。"
      ],
      "metadata": {
        "id": "O6tFxhVAwyer"
      }
    },
    {
      "cell_type": "code",
      "source": [
        "#[3]データの確認\n",
        "asia.head()"
      ],
      "metadata": {
        "id": "ibflI-DzWFDS",
        "collapsed": true
      },
      "execution_count": null,
      "outputs": []
    },
    {
      "cell_type": "markdown",
      "source": [
        "　貿易モデルの被説明変数、説明変数を算出し、新たな変数として、データフレームに追加します。ここでは、USドル建て輸出額（輸入額）を対数変換し(lnEXus)、二国間の相対価格比（Pin_Pus)、累積固定資本相対比（Cin_Cus）を算出、相手先国実質所得を対数変換（lnYus）します。"
      ],
      "metadata": {
        "id": "pLk5aXKbxUTD"
      }
    },
    {
      "cell_type": "code",
      "source": [
        "#[4]変数の生成\n",
        "asia['lnEXus']=np.log(asia['export_us'])\n",
        "asia['Pin_Pus']=asia['P_in']/asia['P_us']\n",
        "asia['Cin_Cus']=asia['C_in']/asia['C_us']\n",
        "asia['lnYus']=np.log(asia['Y_us'])"
      ],
      "metadata": {
        "id": "q6-dfCc2EQ36"
      },
      "execution_count": 4,
      "outputs": []
    },
    {
      "cell_type": "markdown",
      "source": [
        "　本例では、複数の新興国の異なる貿易パターンを比較するため、データを「標準化」した上で推計を行います。一般的なデータの「標準化」と「正規化」の違いは、\n",
        "\n",
        "\n",
        "「標準化」…データを平均0、分散1に変換\n",
        "\n",
        "「正規化」…データを0～1の値に変換\n",
        "\n",
        "\n",
        "です。それぞれの国々の資源、すなわち相対価格と資本相対比は、異なりますので、これらを「標準化」することで、国際間の貿易パターンの違いを検証します。\n",
        "\n",
        "　「標準化」後のデータの記述統計を確認すると、それぞれデータが平均0、分散1に変換されていることがわかります。"
      ],
      "metadata": {
        "id": "3hXXvCZevsv4"
      }
    },
    {
      "cell_type": "code",
      "source": [
        "asia2 = asia[['lnEXus','Pin_Pus','Cin_Cus','lnYus']]\n",
        "asia3 = (asia2 - asia2.mean()) / asia2.std()\n",
        "asia3.describe()"
      ],
      "metadata": {
        "id": "OQLQnQoQSKlG"
      },
      "execution_count": null,
      "outputs": []
    },
    {
      "cell_type": "markdown",
      "source": [
        "　「第6章 貿易標準モデル」においても、二国間の「相対価格比*Pc*/*Pf*」と「労働レンタル比率*l*/*w*」が正の関係にあることを説明しています。それゆえ、本例でも、二国間の相対価格比(*Pjp*/*Pus*)が輸出（輸入）にプラスの影響を与えていれば、労働集約型産業の生産性上昇（低下）が輸出（輸入）増進に貢献していることが支持されます。\n",
        "\n",
        "\n",
        "\n",
        "　他方、二国間の累積固定資本比(*Cjp*/*Cuj*)は、両国でどの程度の生産能力増強が企業により行われてきたかを示す変数です。これが輸出（輸入）にプラスの影響をもたらしていれば、労働と資本のうち、資本の相対的な増加（減少）が輸出（輸入）を促していることになります。\n",
        "\n",
        "\n",
        "　米国（*Yus*)と中国（*Ycn*)を説明変数として用いた場合の推計結果を比較してみると、韓国・ASEAN・インドの米国・中国との貿易パターンが、近年、大きく変化していることを、確認することができます。"
      ],
      "metadata": {
        "id": "INM2lclHyBQu"
      }
    },
    {
      "cell_type": "markdown",
      "source": [
        "　実証前に貿易データと、各変数の二カ国間の相対価格比、累積固定資本相対比、最終需要データを、それぞれ散布図を作成し、可視化します。"
      ],
      "metadata": {
        "id": "Uo2aVcLLyas2"
      }
    },
    {
      "cell_type": "code",
      "source": [
        "#[5]可視化\n",
        "plt.scatter(asia.lnYus,asia.lnEXus)\n",
        "#plt.scatter(asia.Pjp_Pus,asia.lnEXus)\n",
        "#plt.scatter(asia.Cjp_Cus,asia.lnEXus)"
      ],
      "metadata": {
        "id": "bYOXhEhVWZbO",
        "colab": {
          "base_uri": "https://localhost:8080/",
          "height": 448
        },
        "outputId": "bf24416f-79f9-4968-97a0-6bf8b3ea84e8"
      },
      "execution_count": 6,
      "outputs": [
        {
          "output_type": "execute_result",
          "data": {
            "text/plain": [
              "<matplotlib.collections.PathCollection at 0x7edb1ef22ad0>"
            ]
          },
          "metadata": {},
          "execution_count": 6
        },
        {
          "output_type": "display_data",
          "data": {
            "text/plain": [
              "<Figure size 640x480 with 1 Axes>"
            ],
            "image/png": "[encoded data removed]"
          },
          "metadata": {}
        }
      ]
    },
    {
      "cell_type": "markdown",
      "source": [
        "　最後に実証モデルを最小二乗法により推計します。本例では、被説明変数は日本の米国への輸出額（lnEXus）、説明変数はそれぞれ日米価格相対比（Pjp_Pus）、日米累積固定資本相対比（Cjp_Cus)、米国の実質最終需要(lnYus)です。\n",
        "\n",
        "　複数の新興国の推計結果を比較してみると、（1）輸入関税、（2）輸出補助金、(3)対内投資誘致、のいずれが貿易政策として所得増進に効果的であるのかがわかります。"
      ],
      "metadata": {
        "id": "lCYdQD8Uyuq4"
      }
    },
    {
      "cell_type": "code",
      "source": [
        "#[6]H=Oモデルの推計\n",
        "X=asia3[['Pin_Pus','Cin_Cus','lnYus']]\n",
        "y=asia3['lnEXus']\n",
        "X=sm.add_constant(X)\n",
        "Model=sm.OLS(y,X).fit()\n",
        "print(Model.summary().tables[1])\n",
        "print('AdjR2: %.4f'% Model.rsquared_adj)"
      ],
      "metadata": {
        "id": "7SxXY-ewskbK",
        "colab": {
          "base_uri": "https://localhost:8080/"
        },
        "outputId": "b5f1cadc-abdb-48aa-df7d-855c5ffeb583"
      },
      "execution_count": 7,
      "outputs": [
        {
          "output_type": "stream",
          "name": "stdout",
          "text": [
            "==============================================================================\n",
            "                 coef    std err          t      P>|t|      [0.025      0.975]\n",
            "------------------------------------------------------------------------------\n",
            "const       -5.43e-15      0.013  -4.08e-13      1.000      -0.026       0.026\n",
            "Pin_Pus       -0.0288      0.085     -0.341      0.734      -0.196       0.139\n",
            "Cin_Cus        0.2936      0.070      4.196      0.000       0.155       0.432\n",
            "lnYus          0.7449      0.038     19.692      0.000       0.670       0.820\n",
            "==============================================================================\n",
            "AdjR2: 0.9780\n"
          ]
        }
      ]
    }
  ]
}