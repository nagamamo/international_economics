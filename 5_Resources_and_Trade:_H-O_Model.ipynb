{
  "nbformat": 4,
  "nbformat_minor": 0,
  "metadata": {
    "colab": {
      "provenance": []
    },
    "kernelspec": {
      "name": "python3",
      "display_name": "Python 3"
    },
    "language_info": {
      "name": "python"
    }
  },
  "cells": [
    {
      "cell_type": "markdown",
      "source": [
        "5　 資源と貿易：ヘクシャー＝オリーン・モデル"
      ],
      "metadata": {
        "id": "vU_iVRv9uJ1d"
      }
    },
    {
      "cell_type": "markdown",
      "source": [
        "　資源、すなわち資本と労働の相対的な豊富さが、国・地域の貿易に影響するとエリ・ヘクシャーとベルティル・オリーンは提唱しています。本例では、各国・地域が利用可能な生産要素の比率の違いが、二国間貿易にどの程度の影響をもたらしているのか、この要素比率理論を実装します。"
      ],
      "metadata": {
        "id": "jhQpmL3tuSpE"
      }
    },
    {
      "cell_type": "markdown",
      "source": [
        "　まず、pandas、numpy、matplotlib、statmodels、の4つのライブラリーを読み込みます。回帰分析を行うためのライブラリには、主としてsklearnとstatmodelsが選択肢としてありますが、本章ではstatmodelsを用います。sklearnとstatmodelsはそれぞれ特長が異なります。どのような場合に、どちらを用いればよいのかは、例えば拙著『Pythonで学ぶファイナンス論×データサイエンス』朝倉書店、55-56頁を参照してください。"
      ],
      "metadata": {
        "id": "wADl-CJ0vM3j"
      }
    },
    {
      "cell_type": "code",
      "source": [
        "#[1]ライブラリの読み込み\n",
        "import pandas as pd\n",
        "import numpy as np\n",
        "import matplotlib.pyplot as plt\n",
        "import statsmodels.api as sm"
      ],
      "metadata": {
        "id": "UHxP2DDiuHg8"
      },
      "execution_count": 1,
      "outputs": []
    },
    {
      "cell_type": "markdown",
      "source": [
        "　続いて、データセットをURLから読み込みます。読み込んだデータをpandasデータフレームに収納します。このときのデータフレーム名は任意で構いません。左列の日時をインデックス化しておきます。"
      ],
      "metadata": {
        "id": "NF_eKOuvv7M7"
      }
    },
    {
      "cell_type": "code",
      "source": [
        "#[2]データ読込み\n",
        "url = \"https://github.com/nagamamo/data/blob/main/5_ie_H_O_model.csv?raw=true\"#Git-hubからCSVデータの入手\n",
        "japan = pd.read_csv(url).dropna().set_index(\"t\")#データフレームの作成"
      ],
      "metadata": {
        "id": "H5fZPYZhsxCM"
      },
      "execution_count": 2,
      "outputs": []
    },
    {
      "cell_type": "markdown",
      "source": [
        "　データ読込みが間違いなく行われているかを、.head()により確認します。ここでの確認により、後段のセルで新変数（新Column）作成時にどの変数とどの変数をを用いればよいかを視認することが可能となります。"
      ],
      "metadata": {
        "id": "O6tFxhVAwyer"
      }
    },
    {
      "cell_type": "code",
      "source": [
        "#[3]データの確認\n",
        "japan.head()"
      ],
      "metadata": {
        "id": "ibflI-DzWFDS",
        "collapsed": true
      },
      "execution_count": null,
      "outputs": []
    },
    {
      "cell_type": "markdown",
      "source": [
        "　貿易モデルの被説明変数、説明変数を算出し、新たな変数として、データフレームに追加します。ここでは、USドル建て輸出額（輸入額）を対数変換し(lnEXus)、二国間の相対価格比（Pjp_Pus)、累積固定資本相対比（Cjp_Cus）を算出、相手先国実質所得を対数変換（lnYus）します。"
      ],
      "metadata": {
        "id": "pLk5aXKbxUTD"
      }
    },
    {
      "cell_type": "code",
      "source": [
        "#[4]変数の生成\n",
        "japan['lnEXus']=np.log(japan['export_us'])\n",
        "japan['Pjp_Pus']=japan['P_jp']/japan['P_us']\n",
        "japan['Cjp_Cus']=japan['C_jp']/japan['C_us']\n",
        "japan['lnYus']=np.log(japan['Y_us'])"
      ],
      "metadata": {
        "id": "q6-dfCc2EQ36"
      },
      "execution_count": 4,
      "outputs": []
    },
    {
      "cell_type": "markdown",
      "source": [
        "　算出された新変数を含む全変数の記述統計を算出します。「第5章 資源と貿易」では、二国間の「相対価格比*Pc*/*Pf*」と「労働レンタル比率*l*/*w*」が1:1対応の正の関係にあることを説明しています。それゆえ、本例では、二国間の相対価格比(*Pjp*/*Pus*)が輸出（輸入）にプラスの影響を与えていれば、労働集約型産業の生産性上昇（低下）が輸出（輸入）増進に貢献していることが支持されます。\n",
        "\n",
        "\n",
        "\n",
        "　他方、二国間の累積固定資本比(*Cjp*/*Cuj*)は、両国でどの程度の生産能力増強が企業により行われてきたかを示す変数です。これが輸出（輸入）にプラスの影響をもたらしていれば、労働と資本のうち、資本の相対的な増加（減少）が輸出（輸入）を促していることがわかります。\n",
        "\n",
        "\n",
        "　最終需要の代理変数(*lnYu*s)は、輸出入関数では、概ね統計的に有意に影響をもたらします。労働と資本の要素投入という企業側の活動よりも、製品サービスの購入者である家計・企業等の需要サイドの影響が大きいことがその理由です。米国（*Yus*)の替わりに中国（*Ycn*)で検証してみると、日本・韓国・ASEAN諸国の米国・中国との国際貿易が、近年、劇的な構造変化を迎えていることを、確認することができます。"
      ],
      "metadata": {
        "id": "INM2lclHyBQu"
      }
    },
    {
      "cell_type": "code",
      "source": [
        "#[5]記述統計量の算出\n",
        "japan.describe()"
      ],
      "metadata": {
        "id": "47o3KY0cWLZW",
        "collapsed": true
      },
      "execution_count": null,
      "outputs": []
    },
    {
      "cell_type": "markdown",
      "source": [
        "　実証前に貿易データと、各変数の二カ国間の相対価格比、累積固定資本相対比、最終需要データを、それぞれ散布図を作成し、可視化します。"
      ],
      "metadata": {
        "id": "Uo2aVcLLyas2"
      }
    },
    {
      "cell_type": "code",
      "source": [
        "#[5]可視化\n",
        "plt.scatter(japan.lnYus,japan.lnEXus)\n",
        "#plt.scatter(japan.Pjp_Pus,japan.lnEXus)\n",
        "#plt.scatter(japan.Cjp_Cus,japan.lnEXus)"
      ],
      "metadata": {
        "id": "bYOXhEhVWZbO",
        "colab": {
          "base_uri": "https://localhost:8080/",
          "height": 448
        },
        "outputId": "954f9440-9d19-4465-863c-72f0a50f453c"
      },
      "execution_count": 5,
      "outputs": [
        {
          "output_type": "execute_result",
          "data": {
            "text/plain": [
              "<matplotlib.collections.PathCollection at 0x79d33caf6b90>"
            ]
          },
          "metadata": {},
          "execution_count": 5
        },
        {
          "output_type": "display_data",
          "data": {
            "text/plain": [
              "<Figure size 640x480 with 1 Axes>"
            ],
            "image/png": "[encoded data removed]"
          },
          "metadata": {}
        }
      ]
    },
    {
      "cell_type": "markdown",
      "source": [
        "　最後に実証モデルを最小二乗法により推計します。本例では、被説明変数は日本の米国への輸出額（lnEXus）、説明変数はそれぞれ日米価格相対比（Pjp_Pus）、日米累積固定資本相対比（Cjp_Cus)、米国の実質最終需要(lnYus)です。"
      ],
      "metadata": {
        "id": "lCYdQD8Uyuq4"
      }
    },
    {
      "cell_type": "code",
      "source": [
        "#[6]H=Oモデルの推計\n",
        "X=japan[['Pjp_Pus','Cjp_Cus','lnYus']]\n",
        "y=japan['lnEXus']\n",
        "X=sm.add_constant(X)\n",
        "Model=sm.OLS(y,X).fit()\n",
        "print(Model.summary().tables[1])\n",
        "print('AdjR2: %.4f'% Model.rsquared_adj)"
      ],
      "metadata": {
        "id": "7SxXY-ewskbK",
        "colab": {
          "base_uri": "https://localhost:8080/"
        },
        "outputId": "fe3f9af9-373b-4a04-bf89-ed3bece840fd"
      },
      "execution_count": 6,
      "outputs": [
        {
          "output_type": "stream",
          "name": "stdout",
          "text": [
            "==============================================================================\n",
            "                 coef    std err          t      P>|t|      [0.025      0.975]\n",
            "------------------------------------------------------------------------------\n",
            "const         -5.7247      7.215     -0.793      0.429     -20.011       8.561\n",
            "Pjp_Pus        0.5749      0.251      2.286      0.024       0.077       1.073\n",
            "Cjp_Cus        1.2976      0.737      1.761      0.081      -0.161       2.756\n",
            "lnYus          1.0022      0.240      4.174      0.000       0.527       1.478\n",
            "==============================================================================\n",
            "AdjR2: 0.2740\n"
          ]
        }
      ]
    }
  ]
}